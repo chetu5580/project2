{
  "nbformat": 4,
  "nbformat_minor": 0,
  "metadata": {
    "colab": {
      "provenance": [],
      "authorship_tag": "ABX9TyPrVvtj/Ygdd9eiI6Ajt+gN",
      "include_colab_link": true
    },
    "kernelspec": {
      "name": "python3",
      "display_name": "Python 3"
    },
    "language_info": {
      "name": "python"
    }
  },
  "cells": [
    {
      "cell_type": "markdown",
      "metadata": {
        "id": "view-in-github",
        "colab_type": "text"
      },
      "source": [
        "<a href=\"https://colab.research.google.com/github/chetu5580/project2/blob/main/vehicle.ipynb\" target=\"_parent\"><img src=\"https://colab.research.google.com/assets/colab-badge.svg\" alt=\"Open In Colab\"/></a>"
      ]
    },
    {
      "cell_type": "code",
      "execution_count": 4,
      "metadata": {
        "colab": {
          "base_uri": "https://localhost:8080/"
        },
        "id": "39A3pY8yOffc",
        "outputId": "2a2a5feb-7ba5-447e-92f8-02888665573d"
      },
      "outputs": [
        {
          "output_type": "stream",
          "name": "stdout",
          "text": [
            "              year          price   cylinders      mileage       doors\n",
            "count  1002.000000     979.000000  897.000000   968.000000  995.000000\n",
            "mean   2023.916168   50202.985700    4.975474    69.033058    3.943719\n",
            "std       0.298109   18700.392062    1.392526   507.435745    0.274409\n",
            "min    2023.000000       0.000000    0.000000     0.000000    2.000000\n",
            "25%    2024.000000   36600.000000    4.000000     4.000000    4.000000\n",
            "50%    2024.000000   47165.000000    4.000000     8.000000    4.000000\n",
            "75%    2024.000000   58919.500000    6.000000    13.000000    4.000000\n",
            "max    2025.000000  195895.000000    8.000000  9711.000000    5.000000\n"
          ]
        }
      ],
      "source": [
        "import pandas as pd\n",
        "import numpy as np\n",
        "import matplotlib.pyplot as plt\n",
        "import seaborn as sns\n",
        "from datetime import datetime\n",
        "\n",
        "data=pd.read_csv(r\"vehicles_dataset.csv\")\n",
        "df1=data.describe()\n",
        "print(df1)"
      ]
    },
    {
      "cell_type": "code",
      "source": [
        "df=data.info()\n",
        "print(df)"
      ],
      "metadata": {
        "colab": {
          "base_uri": "https://localhost:8080/"
        },
        "id": "QXZJb9X3PBZ9",
        "outputId": "b91c00c5-8f17-4ec7-f9f3-33c4c8dd7ed6"
      },
      "execution_count": 5,
      "outputs": [
        {
          "output_type": "stream",
          "name": "stdout",
          "text": [
            "<class 'pandas.core.frame.DataFrame'>\n",
            "RangeIndex: 1002 entries, 0 to 1001\n",
            "Data columns (total 18 columns):\n",
            " #   Column          Non-Null Count  Dtype  \n",
            "---  ------          --------------  -----  \n",
            " 0   name            1002 non-null   object \n",
            " 1   description     946 non-null    object \n",
            " 2   make            1002 non-null   object \n",
            " 3   model           1002 non-null   object \n",
            " 4   type            1002 non-null   object \n",
            " 5   year            1002 non-null   int64  \n",
            " 6   price           979 non-null    float64\n",
            " 7   engine          1000 non-null   object \n",
            " 8   cylinders       897 non-null    float64\n",
            " 9   fuel            995 non-null    object \n",
            " 10  mileage         968 non-null    float64\n",
            " 11  transmission    1000 non-null   object \n",
            " 12  trim            1001 non-null   object \n",
            " 13  body            999 non-null    object \n",
            " 14  doors           995 non-null    float64\n",
            " 15  exterior_color  997 non-null    object \n",
            " 16  interior_color  964 non-null    object \n",
            " 17  drivetrain      1002 non-null   object \n",
            "dtypes: float64(4), int64(1), object(13)\n",
            "memory usage: 141.0+ KB\n",
            "None\n"
          ]
        }
      ]
    },
    {
      "cell_type": "code",
      "source": [],
      "metadata": {
        "id": "jMKl6ElkPqtt"
      },
      "execution_count": null,
      "outputs": []
    }
  ]
}