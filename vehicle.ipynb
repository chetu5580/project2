{
  "nbformat": 4,
  "nbformat_minor": 0,
  "metadata": {
    "colab": {
      "provenance": [],
      "authorship_tag": "ABX9TyN/XkrphalWZsWdq8Bf4V+j",
      "include_colab_link": true
    },
    "kernelspec": {
      "name": "python3",
      "display_name": "Python 3"
    },
    "language_info": {
      "name": "python"
    }
  },
  "cells": [
    {
      "cell_type": "markdown",
      "metadata": {
        "id": "view-in-github",
        "colab_type": "text"
      },
      "source": [
        "<a href=\"https://colab.research.google.com/github/chetu5580/project2/blob/main/vehicle.ipynb\" target=\"_parent\"><img src=\"https://colab.research.google.com/assets/colab-badge.svg\" alt=\"Open In Colab\"/></a>"
      ]
    },
    {
      "cell_type": "markdown",
      "source": [
        "\n",
        "Abstract of the project:\n",
        "\n",
        "The \"Vehicle Dataset 2024\" provides an extensive overview of new vehicles, including details on make, model, year, price, and more, across 1002 entries. Key insights are drawn from descriptive statistics and visualizations to summarize data distribution and relationships. Data cleaning ensures accuracy, while feature engineering enhances model performance by creating derived metrics like price per year. The study aims to deliver actionable insights into market dynamics, aiding manufacturers, dealers, and consumers in informed decision-making within the automotive sector.\n",
        "Data Science Applications\n",
        "Given the richness of the data, this dataset can be used for a variety of data science applications, including but not limited to:\n",
        "1.\tPrice Prediction: Build models to predict vehicle prices based on features such as make, model, year, and mileage.\n",
        "2.\tMarket Analysis: Perform market segmentation and identify trends in vehicle types, brands, and pricing.\n",
        "3.\tDescriptive Statistics: Conduct comprehensive descriptive statistical analyses to summarize and describe the main features of the dataset.\n",
        "4.\tData Cleaning: Practice data cleaning techniques, handling missing values, and transforming data for further analysis.\n",
        "5.\tFeature Engineering: Develop new features to improve model performance, such as price per year or mileage per year.\n"
      ],
      "metadata": {
        "id": "26C3qP8gXbSf"
      }
    },
    {
      "cell_type": "code",
      "execution_count": null,
      "metadata": {
        "colab": {
          "base_uri": "https://localhost:8080/"
        },
        "id": "39A3pY8yOffc",
        "outputId": "2a2a5feb-7ba5-447e-92f8-02888665573d"
      },
      "outputs": [
        {
          "output_type": "stream",
          "name": "stdout",
          "text": [
            "              year          price   cylinders      mileage       doors\n",
            "count  1002.000000     979.000000  897.000000   968.000000  995.000000\n",
            "mean   2023.916168   50202.985700    4.975474    69.033058    3.943719\n",
            "std       0.298109   18700.392062    1.392526   507.435745    0.274409\n",
            "min    2023.000000       0.000000    0.000000     0.000000    2.000000\n",
            "25%    2024.000000   36600.000000    4.000000     4.000000    4.000000\n",
            "50%    2024.000000   47165.000000    4.000000     8.000000    4.000000\n",
            "75%    2024.000000   58919.500000    6.000000    13.000000    4.000000\n",
            "max    2025.000000  195895.000000    8.000000  9711.000000    5.000000\n"
          ]
        }
      ],
      "source": [
        "import pandas as pd\n",
        "import numpy as np\n",
        "import matplotlib.pyplot as plt\n",
        "import seaborn as sns\n",
        "from datetime import datetime\n",
        "\n",
        "data=pd.read_csv(r\"vehicles_dataset.csv\")\n",
        "df1=data.describe()\n",
        "print(df1)"
      ]
    },
    {
      "cell_type": "code",
      "source": [
        "df=data.info()\n",
        "print(df)"
      ],
      "metadata": {
        "colab": {
          "base_uri": "https://localhost:8080/"
        },
        "id": "QXZJb9X3PBZ9",
        "outputId": "b91c00c5-8f17-4ec7-f9f3-33c4c8dd7ed6"
      },
      "execution_count": null,
      "outputs": [
        {
          "output_type": "stream",
          "name": "stdout",
          "text": [
            "<class 'pandas.core.frame.DataFrame'>\n",
            "RangeIndex: 1002 entries, 0 to 1001\n",
            "Data columns (total 18 columns):\n",
            " #   Column          Non-Null Count  Dtype  \n",
            "---  ------          --------------  -----  \n",
            " 0   name            1002 non-null   object \n",
            " 1   description     946 non-null    object \n",
            " 2   make            1002 non-null   object \n",
            " 3   model           1002 non-null   object \n",
            " 4   type            1002 non-null   object \n",
            " 5   year            1002 non-null   int64  \n",
            " 6   price           979 non-null    float64\n",
            " 7   engine          1000 non-null   object \n",
            " 8   cylinders       897 non-null    float64\n",
            " 9   fuel            995 non-null    object \n",
            " 10  mileage         968 non-null    float64\n",
            " 11  transmission    1000 non-null   object \n",
            " 12  trim            1001 non-null   object \n",
            " 13  body            999 non-null    object \n",
            " 14  doors           995 non-null    float64\n",
            " 15  exterior_color  997 non-null    object \n",
            " 16  interior_color  964 non-null    object \n",
            " 17  drivetrain      1002 non-null   object \n",
            "dtypes: float64(4), int64(1), object(13)\n",
            "memory usage: 141.0+ KB\n",
            "None\n"
          ]
        }
      ]
    },
    {
      "cell_type": "code",
      "source": [],
      "metadata": {
        "id": "jMKl6ElkPqtt"
      },
      "execution_count": null,
      "outputs": []
    }
  ]
}